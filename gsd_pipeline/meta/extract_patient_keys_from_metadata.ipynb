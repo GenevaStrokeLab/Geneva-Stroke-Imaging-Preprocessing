{
 "cells": [
  {
   "cell_type": "code",
   "execution_count": 1,
   "outputs": [],
   "source": [
    "import os, hashlib, re\n",
    "import pandas as pd\n",
    "from unidecode import unidecode\n",
    "import pydicom\n",
    "from tqdm import tqdm"
   ],
   "metadata": {
    "collapsed": false,
    "pycharm": {
     "name": "#%%\n"
    }
   }
  },
  {
   "cell_type": "code",
   "execution_count": 2,
   "metadata": {
    "collapsed": true
   },
   "outputs": [],
   "source": [
    "main_folder_path = '/Users/jk1/stroke_datasets/2018_data/extracted_with_RAPID_part1bis'"
   ]
  },
  {
   "cell_type": "code",
   "execution_count": 3,
   "outputs": [],
   "source": [
    "def flatten_string(string):\n",
    "    return unidecode(''.join(re.split(r'[,-]', str(string)))).upper()"
   ],
   "metadata": {
    "collapsed": false,
    "pycharm": {
     "name": "#%%\n"
    }
   }
  },
  {
   "cell_type": "code",
   "execution_count": 4,
   "outputs": [
    {
     "name": "stderr",
     "output_type": "stream",
     "text": [
      "13it [00:00, 286.53it/s]\n"
     ]
    }
   ],
   "source": [
    "subjects = [o for o in os.listdir(main_folder_path)\n",
    "            if os.path.isdir(os.path.join(main_folder_path, o))]\n",
    "\n",
    "info_df_columns = ['pid', 'hospital_id', 'first_name', 'last_name', 'dob', 'rapid_imaging_date']\n",
    "info_df = pd.DataFrame(columns=info_df_columns)\n",
    "\n",
    "for subj_idx, subject in tqdm(enumerate(subjects)):\n",
    "    subject_tmax_path = os.path.join(main_folder_path, subject, 'pCT', f'Tmax_{subject}')\n",
    "    img0 = [o for o in os.listdir(subject_tmax_path) if o.endswith('.dcm')][0]\n",
    "    dcm = pydicom.dcmread(os.path.join(subject_tmax_path, img0))\n",
    "\n",
    "    full_name = '_'.join(re.split(r'[/^ ]', unidecode(str(dcm.PatientName).upper())))\n",
    "    last_name = unidecode(str(dcm.PatientName).split('^')[0].upper())\n",
    "    first_name = unidecode(str(dcm.PatientName).split('^')[1].upper())\n",
    "\n",
    "    patient_birth_date = dcm.PatientBirthDate\n",
    "\n",
    "    patient_identifier = last_name + '^' + first_name + '^' + patient_birth_date\n",
    "\n",
    "    ID = hashlib.sha256(patient_identifier.encode('utf-8')).hexdigest()[:8]\n",
    "    pid = 'subj-' + str(ID)\n",
    "\n",
    "    assert subject == pid, 'subject id is not matching'\n",
    "\n",
    "    hospitalPatientId = dcm.PatientID\n",
    "    rapid_imaging_date = dcm.StudyDate\n",
    "\n",
    "    info_df = info_df.append(\n",
    "                pd.DataFrame([[pid, hospitalPatientId, first_name, last_name, patient_birth_date, rapid_imaging_date]],\n",
    "                columns = info_df_columns), ignore_index=True)\n"
   ],
   "metadata": {
    "collapsed": false,
    "pycharm": {
     "name": "#%%\n"
    }
   }
  },
  {
   "cell_type": "code",
   "execution_count": 5,
   "outputs": [],
   "source": [
    "info_df.to_excel(os.path.join(main_folder_path, 'patient_ids_key.xlsx'))"
   ],
   "metadata": {
    "collapsed": false,
    "pycharm": {
     "name": "#%%\n"
    }
   }
  },
  {
   "cell_type": "code",
   "execution_count": null,
   "outputs": [],
   "source": [],
   "metadata": {
    "collapsed": false,
    "pycharm": {
     "name": "#%%\n"
    }
   }
  }
 ],
 "metadata": {
  "kernelspec": {
   "display_name": "Python 3",
   "language": "python",
   "name": "python3"
  },
  "language_info": {
   "codemirror_mode": {
    "name": "ipython",
    "version": 2
   },
   "file_extension": ".py",
   "mimetype": "text/x-python",
   "name": "python",
   "nbconvert_exporter": "python",
   "pygments_lexer": "ipython2",
   "version": "2.7.6"
  }
 },
 "nbformat": 4,
 "nbformat_minor": 0
}