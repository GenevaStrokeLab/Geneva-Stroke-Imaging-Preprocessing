{
 "cells": [
  {
   "cell_type": "markdown",
   "metadata": {},
   "source": [
    "# Example: Load and display data"
   ]
  },
  {
   "cell_type": "code",
   "execution_count": 1,
   "metadata": {},
   "outputs": [],
   "source": [
    "from gsd_pipeline import data_loader as dl\n",
    "from gsprep.visual_tools.visual import display\n"
   ]
  },
  {
   "cell_type": "markdown",
   "metadata": {
    "pycharm": {
     "name": "#%% md\n"
    }
   },
   "source": [
    "Declare paths"
   ]
  },
  {
   "cell_type": "code",
   "execution_count": null,
   "metadata": {
    "pycharm": {
     "is_executing": false,
     "name": "#%%\n"
    }
   },
   "outputs": [],
   "source": [
    "data_dir = ''\n",
    "dataset_file = 'data_set.npz'"
   ]
  },
  {
   "cell_type": "markdown",
   "metadata": {},
   "source": [
    "Load data\n",
    "- the data format is (n_subj, n_x, n_y, n_z, n_c)\n",
    "- in the acute setting, the available data is ct_inputs, brain_masks +/- clinical_inputs\n",
    "- ct_lesion_gt, mri_inputs, mri_lesion_gt are obtained later on\n"
   ]
  },
  {
   "cell_type": "code",
   "execution_count": null,
   "metadata": {
    "pycharm": {
     "is_executing": false,
     "name": "#%%\n"
    }
   },
   "outputs": [],
   "source": [
    "(clinical_inputs, ct_inputs, ct_lesion_GT, mri_inputs, mri_lesion_GT, brain_masks, ids, params) = dl.load_saved_data(data_dir, filename=dataset_file)  \n",
    "print(ct_inputs.shape)\n",
    "print(ct_lesion_GT.shape)\n",
    "print(brain_masks.shape)\n",
    "print(len(ids))\n"
   ]
  },
  {
   "cell_type": "markdown",
   "metadata": {},
   "source": [
    "Display 3D images"
   ]
  },
  {
   "cell_type": "code",
   "execution_count": null,
   "metadata": {
    "pycharm": {
     "is_executing": false,
     "name": "#%%\n"
    }
   },
   "outputs": [],
   "source": [
    "n_subj, n_x, n_y, n_z, n_c = ct_inputs.shape\n",
    "subj = 50\n",
    "for channel in range(n_c):\n",
    "    display(ct_inputs[subj, ..., channel])\n",
    "display(brain_masks[subj])\n",
    "display(ct_lesion_GT[subj])\n"
   ]
  }
 ],
 "metadata": {
  "kernelspec": {
   "display_name": "PyCharm (geneva_stroke_preprocessing)",
   "language": "python",
   "name": "pycharm-d011ab9d"
  },
  "language_info": {
   "codemirror_mode": {
    "name": "ipython",
    "version": 3
   },
   "file_extension": ".py",
   "mimetype": "text/x-python",
   "name": "python",
   "nbconvert_exporter": "python",
   "pygments_lexer": "ipython3",
   "version": "3.7.7"
  }
 },
 "nbformat": 4,
 "nbformat_minor": 1
}